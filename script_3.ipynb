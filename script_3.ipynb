{
 "cells": [
  {
   "cell_type": "code",
   "execution_count": 1,
   "metadata": {},
   "outputs": [
    {
     "name": "stdout",
     "output_type": "stream",
     "text": [
      "10\n"
     ]
    }
   ],
   "source": [
    "def sum(n):\n",
    "    \"\"\"\n",
    "    sum from 1 to n - n = 4\n",
    "    \"\"\"\n",
    "    if n == 0:                  # L1\n",
    "        return 0                # L2\n",
    "    else:                       # L3\n",
    "        smaller = sum(n-1)      # L4\n",
    "        return n + smaller      # L5\n",
    "    \n",
    "    \n",
    "\n",
    "result = sum(n=4)\n",
    "print(result)"
   ]
  },
  {
   "cell_type": "markdown",
   "metadata": {},
   "source": [
    "Every function has exactly 1 return statement. Once a function returns a value, function execution ENDS.\n",
    "\n",
    "main()\n",
    "\n",
    "sum(n=4)\n",
    "L1, L2, L3, L4(In process - NOT Finished)\n",
    "\n",
    "        |\n",
    "        v\n",
    "\n",
    "sum(n=3)\n",
    "L1, L2, L3, L4(In process - NOT finished)\n",
    "\n",
    "        |\n",
    "        v\n",
    "\n",
    "sum(n=2)\n",
    "L1, L2, L3, L4(In process - NOT finished)\n",
    "\n",
    "        |\n",
    "        v\n",
    "\n",
    "sum(n=1)\n",
    "L1, L2, L3, L4(In process - NOT finished)\n",
    "\n",
    "        |\n",
    "        v\n",
    "\n",
    "sum(n=0)\n",
    "L1, L2 - Executed and returned 0 to sum(n=1)\n",
    "\n",
    "        |\n",
    "        v\n",
    "\n",
    "sum(n=1)\n",
    "L4 executed and returned 1 after execution of L5.\n",
    "\n",
    "        |\n",
    "        v\n",
    "\n",
    "sum(n=2)\n",
    "L4 executed and returned 3 after execution of L5.\n",
    "\n",
    "        |\n",
    "        v\n",
    "\n",
    "sum(n=3)\n",
    "L4 executed and returned 6 after execution of L5.\n",
    "\n",
    "        |\n",
    "        v\n",
    "\n",
    "sum(n=4)\n",
    "L4 executed and returned 10 after execution of L5.\n"
   ]
  },
  {
   "cell_type": "markdown",
   "metadata": {},
   "source": []
  }
 ],
 "metadata": {
  "kernelspec": {
   "display_name": "Python 3",
   "language": "python",
   "name": "python3"
  },
  "language_info": {
   "codemirror_mode": {
    "name": "ipython",
    "version": 3
   },
   "file_extension": ".py",
   "mimetype": "text/x-python",
   "name": "python",
   "nbconvert_exporter": "python",
   "pygments_lexer": "ipython3",
   "version": "3.10.11"
  }
 },
 "nbformat": 4,
 "nbformat_minor": 2
}
