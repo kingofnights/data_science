{
 "cells": [
  {
   "cell_type": "code",
   "execution_count": null,
   "metadata": {},
   "outputs": [],
   "source": [
    "# Python ->\n",
    "\n",
    "# print\n",
    "# input\n",
    "# variable\n",
    "\n",
    "# if-else\n",
    "# loops\n",
    "\n",
    "# functions\n",
    "\n",
    "# little bit of Data Structures / Containers ->\n"
   ]
  },
  {
   "cell_type": "code",
   "execution_count": 3,
   "metadata": {},
   "outputs": [
    {
     "name": "stdout",
     "output_type": "stream",
     "text": [
      "Sentence 123\n"
     ]
    }
   ],
   "source": [
    "print('Sentence 1')"
   ]
  },
  {
   "cell_type": "code",
   "execution_count": 6,
   "metadata": {},
   "outputs": [],
   "source": [
    "s1 = input()        # to take input from user - By default, the input entered by user is ALWAYS STRING.\n"
   ]
  },
  {
   "cell_type": "code",
   "execution_count": 7,
   "metadata": {},
   "outputs": [
    {
     "name": "stdout",
     "output_type": "stream",
     "text": [
      "<class 'str'>\n",
      "16\n"
     ]
    }
   ],
   "source": [
    "print(type(s1))\n",
    "print(s1)"
   ]
  },
  {
   "cell_type": "code",
   "execution_count": 8,
   "metadata": {},
   "outputs": [
    {
     "name": "stdout",
     "output_type": "stream",
     "text": [
      "<class 'int'>\n",
      "16\n"
     ]
    }
   ],
   "source": [
    "s2 = int(s1)        # Typecast - TO convert data type\n",
    "\n",
    "print(type(s2))\n",
    "print(s2)"
   ]
  },
  {
   "cell_type": "code",
   "execution_count": 14,
   "metadata": {},
   "outputs": [
    {
     "name": "stdout",
     "output_type": "stream",
     "text": [
      "<class 'int'>\n",
      "<class 'str'>\n",
      "<class 'bool'>\n"
     ]
    }
   ],
   "source": [
    "# Python - NO need to mention data type explicitly. It is understood by the interpreter.\n",
    "\n",
    "s1 = 12\n",
    "print(type(s1))\n",
    "s1 = 'Amit'\n",
    "print(type(s1))\n",
    "s1 = True\n",
    "print(type(s1))\n"
   ]
  },
  {
   "cell_type": "code",
   "execution_count": 16,
   "metadata": {},
   "outputs": [
    {
     "name": "stdout",
     "output_type": "stream",
     "text": [
      "N is EVEN\n"
     ]
    }
   ],
   "source": [
    "n = 4\n",
    "if (n % 2) == 1:\n",
    "    print(\"N is ODD\")\n",
    "else:\n",
    "    print(\"N is EVEN\")"
   ]
  },
  {
   "cell_type": "code",
   "execution_count": 22,
   "metadata": {},
   "outputs": [
    {
     "name": "stdout",
     "output_type": "stream",
     "text": [
      "$#@$@\n",
      "N is FOUND - 44\n"
     ]
    }
   ],
   "source": [
    "n = 4\n",
    "if n == 1:\n",
    "    print(\"N is FOUND\")\n",
    "elif n == 2:\n",
    "    print(\"N is FOUND\")\n",
    "elif n == 3:\n",
    "    print(\"N is FOUND - 3\")\n",
    "elif n == 4:\n",
    "    print(\"$#@$@\")\n",
    "    print(\"N is FOUND - 44\")\n",
    "else:\n",
    "    print(\"N is 7\")"
   ]
  },
  {
   "cell_type": "code",
   "execution_count": null,
   "metadata": {},
   "outputs": [],
   "source": [
    "# SCRIPTing ->\n",
    "# No CURLY braces for BLOCK of code. SCRIPTING languages like YAML (BASH), Python operate based on TABS.\n"
   ]
  },
  {
   "cell_type": "code",
   "execution_count": 24,
   "metadata": {},
   "outputs": [
    {
     "name": "stdout",
     "output_type": "stream",
     "text": [
      "1 2 3 4 5 "
     ]
    }
   ],
   "source": [
    "# Print numbers from 1 to 5\n",
    "\n",
    "print(1, end=\" \")\n",
    "print(2, end=\" \")\n",
    "print(3, end=\" \")\n",
    "print(4, end=\" \")\n",
    "print(5, end=\" \")\n"
   ]
  },
  {
   "cell_type": "code",
   "execution_count": 27,
   "metadata": {},
   "outputs": [
    {
     "name": "stdout",
     "output_type": "stream",
     "text": [
      "1 2 3 4 5 6 7 8 9 10 11 12 13 14 15 16 17 18 19 20 21 22 23 24 25 26 27 28 29 30 31 32 33 34 35 36 37 38 39 40 41 42 43 44 45 46 47 48 49 50 51 52 53 54 55 56 57 58 59 60 61 62 63 64 65 66 67 68 69 70 71 72 73 74 75 76 77 78 79 80 81 82 83 84 85 86 87 88 89 90 91 92 93 94 95 96 97 98 99 100 "
     ]
    }
   ],
   "source": [
    "# LOOPs are used to execute the same piece of code again and again - Shorter Syntax.\n",
    "\n",
    "for i in range(1,101,1):\n",
    "    print(i, end=\" \")\n"
   ]
  },
  {
   "cell_type": "code",
   "execution_count": 30,
   "metadata": {},
   "outputs": [
    {
     "name": "stdout",
     "output_type": "stream",
     "text": [
      "1 2 3 4 5 "
     ]
    }
   ],
   "source": [
    "i = 1\n",
    "while(i <= 5):              # L1\n",
    "    print(i, end=\" \")       # L2\n",
    "    i = i + 1               # L3"
   ]
  },
  {
   "cell_type": "code",
   "execution_count": 31,
   "metadata": {},
   "outputs": [
    {
     "name": "stdout",
     "output_type": "stream",
     "text": [
      "21\n"
     ]
    }
   ],
   "source": [
    "# Method in Java is called as Function OR Method in Python.\n",
    "# Whenever you see open and closed ROUND brackets - It is a function call - GENERALLY.\n",
    "\n",
    "def functionName(a, b):\n",
    "    # function definition\n",
    "    product = a * b\n",
    "    return product\n",
    "\n",
    "# function call\n",
    "result = functionName(a = 3, b = 7)\n",
    "print(result)"
   ]
  },
  {
   "cell_type": "code",
   "execution_count": 40,
   "metadata": {},
   "outputs": [
    {
     "name": "stdout",
     "output_type": "stream",
     "text": [
      "4\n"
     ]
    }
   ],
   "source": [
    "# 4 Library defined Containers ->\n",
    "\n",
    "# variable - Can store EXACTLY 1 value at a time.\n",
    "# container - CAn store MORE than 1 value at the same time.\n",
    "\n",
    "# a = 1       # Variable\n",
    "# print(a)\n",
    "\n",
    "# In python, ARRAY is called as a LIST. The difference with OTHER languages is:\n",
    "# In JAVA OR C OR C++, Array can store elements of exactly 1 DATA type. Eg: int A[] can store only INTEGERS, NOT string.\n",
    "# This is NOT true with Python. In Python, the same ARRAY can store any DATA type.\n",
    "\n",
    "# In a LIST, the index is always an INTEGER.\n",
    "\n",
    "# In Python, List index starts with 0. Similar to C, JAVA.\n",
    "\n",
    "a = [1, 'SNAKE', True, [1,2,3, [] ] ]\n",
    "# print(type(a))\n",
    "\n",
    "# print(type(a[0]))\n",
    "# print(a[0])\n",
    "\n",
    "# print(type(a[1]))\n",
    "# print(a[1])\n",
    "\n",
    "# print(type(a[2]))\n",
    "# print(a[2])\n",
    "\n",
    "# print(type(a[3]))\n",
    "# print(a[3])\n",
    "\n",
    "# print(a[3][0])      # 2-Dimensional array = MATRIX\n",
    "# print(a[3][1])\n",
    "# print(a[3][2])\n",
    "# print(a[3][3])\n",
    "\n",
    "\n",
    "# ERROR: IndexError: list index out of range\n",
    "# print(a[4])         # Maximum value of index = len(array) - 1. For 4 element array, max value of index = 4-1 = 3.\n",
    "\n",
    "\n",
    "print(len(a))         # to get the number of elements in the array, use len(array_name) "
   ]
  },
  {
   "cell_type": "code",
   "execution_count": 41,
   "metadata": {},
   "outputs": [
    {
     "name": "stdout",
     "output_type": "stream",
     "text": [
      "1\n",
      "2\n",
      "3\n"
     ]
    }
   ],
   "source": [
    "# Tuple - Tuple is immutable. Once a value is assigned, it CANNOT be changed.\n",
    "a = (1,2,3,)\n",
    "print(a[0])\n",
    "print(a[1])\n",
    "print(a[2])"
   ]
  },
  {
   "cell_type": "code",
   "execution_count": 45,
   "metadata": {},
   "outputs": [
    {
     "name": "stdout",
     "output_type": "stream",
     "text": [
      "<class 'tuple'>\n"
     ]
    }
   ],
   "source": [
    "# a1 = [1,2,3]\n",
    "# a1[0] = 11\n",
    "# print(a1)           # LIST in MUTABLE - WE can EDIT elements in a list - at a particular index.\n",
    "\n",
    "\n",
    "# a2 = (1,2,3)        # TypeError: 'tuple' object does not support item assignment. This means IMMUTABLE. Once created, cannot EDIT / UPDATe.\n",
    "# a2[0] = 11\n",
    "# print(a2)\n",
    "\n",
    "a = 1,2,3,      4       # WHITE spaces DO NOT matter ->\n",
    "print(type(a))          # TUPLE can be written with COMMAS to separate elements and WITHOUT any ROUND brackets.\n"
   ]
  },
  {
   "cell_type": "code",
   "execution_count": 49,
   "metadata": {},
   "outputs": [
    {
     "name": "stdout",
     "output_type": "stream",
     "text": [
      "{1, 2, 3}\n",
      "{2, 3}\n",
      "{3}\n",
      "set()\n"
     ]
    }
   ],
   "source": [
    "# SET - To eliminate DUPLICATES. This is used for FASTER search.\n",
    "a = {1,2,1,3,2,1,3,1,2}\n",
    "print(a)                # After this, set value is {1,2,3}\n",
    "\n",
    "\n",
    "a.pop()\n",
    "print(a)        # After this pop() => set value is {2,3}\n",
    "\n",
    "a.pop()\n",
    "print(a)        # After this pop() => set value is {3}\n",
    "\n",
    "a.pop()\n",
    "print(a)        # After this pop() => set value is {}\n",
    "\n",
    "# pop() function is used to remove element from the FRONT or from first index.\n"
   ]
  },
  {
   "cell_type": "code",
   "execution_count": 59,
   "metadata": {},
   "outputs": [
    {
     "name": "stdout",
     "output_type": "stream",
     "text": [
      "{1}\n",
      "{1, 'SHUBHANGI'}\n",
      "{1, 'SHUBHANGI', 'VIJAY'}\n",
      "{1, 'SHUBHANGI', 'AMIT', 'VIJAY'}\n"
     ]
    },
    {
     "ename": "TypeError",
     "evalue": "unhashable type: 'list'",
     "output_type": "error",
     "traceback": [
      "\u001b[1;31m---------------------------------------------------------------------------\u001b[0m",
      "\u001b[1;31mTypeError\u001b[0m                                 Traceback (most recent call last)",
      "\u001b[1;32mc:\\Users\\AD05260\\Downloads\\artifacts_gitlab_job\\script_2.ipynb Cell 18\u001b[0m line \u001b[0;36m2\n\u001b[0;32m     <a href='vscode-notebook-cell:/c%3A/Users/AD05260/Downloads/artifacts_gitlab_job/script_2.ipynb#X31sZmlsZQ%3D%3D?line=15'>16</a>\u001b[0m \u001b[39mprint\u001b[39m(a)\n\u001b[0;32m     <a href='vscode-notebook-cell:/c%3A/Users/AD05260/Downloads/artifacts_gitlab_job/script_2.ipynb#X31sZmlsZQ%3D%3D?line=17'>18</a>\u001b[0m \u001b[39m# a.add( {41,127} )       # TypeError: unhashable type: 'set'\u001b[39;00m\n\u001b[0;32m     <a href='vscode-notebook-cell:/c%3A/Users/AD05260/Downloads/artifacts_gitlab_job/script_2.ipynb#X31sZmlsZQ%3D%3D?line=18'>19</a>\u001b[0m \u001b[39m# print(a)\u001b[39;00m\n\u001b[1;32m---> <a href='vscode-notebook-cell:/c%3A/Users/AD05260/Downloads/artifacts_gitlab_job/script_2.ipynb#X31sZmlsZQ%3D%3D?line=20'>21</a>\u001b[0m a\u001b[39m.\u001b[39;49madd([\u001b[39m1\u001b[39;49m,\u001b[39m2\u001b[39;49m])\n\u001b[0;32m     <a href='vscode-notebook-cell:/c%3A/Users/AD05260/Downloads/artifacts_gitlab_job/script_2.ipynb#X31sZmlsZQ%3D%3D?line=21'>22</a>\u001b[0m \u001b[39mprint\u001b[39m(a)\n",
      "\u001b[1;31mTypeError\u001b[0m: unhashable type: 'list'"
     ]
    }
   ],
   "source": [
    "a = set()\n",
    "type(a)\n",
    "# print(type(a))\n",
    "# print(a)\n",
    "\n",
    "a.add(1)\n",
    "print(a)\n",
    "\n",
    "a.add('SHUBHANGI')\n",
    "print(a)\n",
    "\n",
    "a.add('VIJAY')\n",
    "print(a)\n",
    "\n",
    "a.add('AMIT')\n",
    "print(a)\n",
    "\n",
    "# a.add( {41,127} )       # TypeError: unhashable type: 'set'\n",
    "# print(a)\n",
    "\n",
    "a.add([1,2])              # TypeError: unhashable type: 'list' ->\n",
    "print(a)\n",
    "\n"
   ]
  },
  {
   "cell_type": "code",
   "execution_count": 64,
   "metadata": {},
   "outputs": [
    {
     "name": "stdout",
     "output_type": "stream",
     "text": [
      "KEY = SHUBHANGI : VALUE = 8\n",
      "KEY = VIJAY : VALUE = 5\n",
      "KEY = AMIT : VALUE = 4\n",
      "KEY = 6 : VALUE = PRABHU\n"
     ]
    }
   ],
   "source": [
    "# DICTIONARY - FAST insert, FAST delete, FAST search / look-up.\n",
    "# In dictionary, we have KEY : VALUE. It is Key - value PAIR data structure.\n",
    "# In dictionary, KEY can be a STRING. But in LIST, Index MUST ALWAYS be an INTEGER.\n",
    "\n",
    "a = { \"SHUBHANGI\": 8, \"VIJAY\": 5, \"AMIT\": 4, 6: \"PRABHU\"}\n",
    "# print(type(a))\n",
    "# print(a)\n",
    "\n",
    "# print(a[0])\n",
    "# print(a[\"VIJAY\"])\n",
    "\n",
    "# print(a[6])\n",
    "\n",
    "for key, value in a.items():\n",
    "    print(\"KEY = {} : VALUE = {}\".format(key, value))\n"
   ]
  },
  {
   "cell_type": "code",
   "execution_count": null,
   "metadata": {},
   "outputs": [],
   "source": [
    "# Thing to remember -> We can have elements of ANY data type in the same LIST, same TUPLE.\n",
    "\n",
    "# LIST - elements separated by commas in SQUARE brackets\n",
    "# TUPLE - elements separated by commas in ROUND brackets\n",
    "# SET - elements separated by commas in CURLY brackets\n",
    "\n",
    "# Order of insertion is maintained in LIST, STACK, QUEUE.\n",
    "# Order of insertion is NOT preserved in SET, DICTIONARY."
   ]
  }
 ],
 "metadata": {
  "kernelspec": {
   "display_name": "Python 3",
   "language": "python",
   "name": "python3"
  },
  "language_info": {
   "codemirror_mode": {
    "name": "ipython",
    "version": 3
   },
   "file_extension": ".py",
   "mimetype": "text/x-python",
   "name": "python",
   "nbconvert_exporter": "python",
   "pygments_lexer": "ipython3",
   "version": "3.10.11"
  }
 },
 "nbformat": 4,
 "nbformat_minor": 2
}
